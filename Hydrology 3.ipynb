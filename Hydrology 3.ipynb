{
 "cells": [
  {
   "cell_type": "markdown",
   "metadata": {},
   "source": [
    "# assignment 3\n",
    "For the third assignment, we will now focus on the impact of a certain rainfall and the effect it has on the discharge downstream. We will use data of a full year to find and choose some specific rainfall with significant precipitation and will hope to see the changes on the discharge downstream. We are obviously looking forward to see the correlation between precipitation and the discharge, but in this assignment we will also try to see how big is the impact and the correlation between the two and examine the reasons for the differences. For that we will also look some information about the topography, climate and soil of the area that we chose to get more sense of how it affects the discharge we receive from a certain rainfall."
   ]
  },
  {
   "cell_type": "markdown",
   "metadata": {},
   "source": [
    "# Location\n",
    "The station and river that I chose to explore in this assignment is the east branch of white clay creek (discharge) which is a river that's sitting next to the small town of Avondale, Pennsylvania.  Avondale is a a small borough in Chester county and its population is only 1200 people with a total area of 0.5 square miles.\n",
    "\n",
    "In the next photos you can see one of the lovely houses Avondale has to offer and the beauty of the white clay creek.\n",
    "From the two photos we can already notice about the green nature of the area that we will discuss more later."
   ]
  },
  {
   "cell_type": "markdown",
   "metadata": {},
   "source": [
    "<img src=\"data:image/jpeg;base64,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\" width=\"400\" height=\"250\">\n",
    "<img src= \"data:image/jpeg;base64,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\" width=\"400\" height=\"250\">"
   ]
  },
  {
   "cell_type": "markdown",
   "metadata": {},
   "source": [
    "# soil type and ground coverage\n",
    "Talking about soil type in Avondale from looking for some resources I found that it is limestone soil which is very fertile and productive. Therefor, in the Avondale area, we can find quite a lot of agricultural activity which means that talking about ground coverage, we found there many field crops and also knowing that it is a small town not that much of structure but more of a rural area. \n",
    "both of this facts indicate us that the ground coverage support quite good of infiltration area which mean less of the rainfall will effect downstream on the discharge.\n",
    "\n",
    "Moving on to the soil itself and its Mechanical composition of sediments using a soil survey of Chester County, Pennsylvania the Avondale series consists of deep, well drained soils that formed in alluvium from mixed rocks with a taxonomic class of fine loamy soil. Again an indication of a soil which we can expect a good drainage and water infiltration.\n",
    "\n",
    "Another conclusion from the two above is that the soil holds the water quite well and the big number of plants in the area from the crops and the vegetation takes a lot of water, which mean less of it get into the stream and effect less on the discharge."
   ]
  },
  {
   "cell_type": "markdown",
   "metadata": {},
   "source": [
    "# Climate and Evapotranspiration\n",
    "Pennsylvania generally has a humid continental climate characterized by wide fluctuations in seasonal temperatures, with prevailing winds from the west. The average temperature in July is about 21C and in January about−2C. With that information and using a bit of the knowledge we acquired in our last assignment, we can say that the ET we expect to find in this area will not be too high because of the relatively cold weather and the humid climate of the area.\n",
    "from these facts we assume that a rainfall will not be affected highly from evapotranspiration and will arrive to other destinations.\n"
   ]
  },
  {
   "cell_type": "markdown",
   "metadata": {},
   "source": [
    "# topography\n",
    "\n",
    "<img src=\"topo1.jpg\" width=\"600\" height=\"400\">\n",
    "\n",
    "We can see in the topographic map above that the height fall is quite dramatic in this area, especially when talking about the areas around the white clay creek we can see a drop of tens of meters in just a couple of hundred meter distance (each line is a 10 meter difference and each square is one kilometer).\n",
    "With that said the area near the stream is a bit more flat and will allow more water to infiltrate the soil and less into the stream.\n",
    "the conclusion of the data is mild but I assume because of the fact that we're talking about a small drainage basin and eventually the area near the stream and also in the town of Avondale is quite flat more water will infiltrate then continue as runoff into the stream"
   ]
  },
  {
   "cell_type": "markdown",
   "metadata": {},
   "source": [
    "# Precipitation and discharge - results and discussion\n",
    "##  Yearly precipitation and discharge\n",
    "In this assignment, we will try and find some significant event of rain and the correlation it has with the discharge.  First, we will look on an yearly precipitation and discharge and will roughly try to find an extreme event and discharge with two graphs created with data from the year of 2021 for Avondale and white clay creek.\n"
   ]
  },
  {
   "cell_type": "code",
   "execution_count": null,
   "metadata": {},
   "outputs": [],
   "source": [
    "import matplotlib.pyplot as plt\n",
    "import matplotlib\n",
    "import numpy as np\n",
    "import pandas as pd\n",
    "from pandas.plotting import register_matplotlib_converters\n",
    "register_matplotlib_converters()  # datetime converter for a matplotlib\n",
    "import seaborn as sns\n",
    "sns.set(style=\"ticks\", font_scale=1.5)\n",
    "import matplotlib.dates as mdates\n",
    "from ipywidgets import *\n",
    "import matplotlib.patches as mpatches\n",
    "\n",
    "# these will be useful when printing superscripts: m^2, m^3\n",
    "squared = \"\\u00b2\"\n",
    "cubed = \"\\u00b3\""
   ]
  },
  {
   "cell_type": "code",
   "execution_count": null,
   "metadata": {
    "scrolled": true
   },
   "outputs": [],
   "source": [
    "## downloading precipitation data\n",
    "data_file = \"https://www.ncei.noaa.gov/pub/data/uscrn/products/subhourly01/2021/CRNS0101-05-2021-PA_Avondale_2_N.txt\"\n",
    "df_p_2021= pd.read_csv(data_file,\n",
    "                 header=None,                      # no headers needed, we'll do that later\n",
    "                 delim_whitespace=True,            # blank spaces separate between columns\n",
    "                 na_values=[\"-99.000\", \"-9999.0\"]  # substitute these values for missing (NaN) values\n",
    "                )\n",
    "headers = pd.read_csv(\"https://www.ncei.noaa.gov/pub/data/uscrn/products/subhourly01/headers.txt\",    # load headers file\n",
    "                      header=1,                    # skip the first [0] line\n",
    "                      delim_whitespace=True\n",
    "                     )\n",
    "df_p_2021.columns = headers.columns                       \n",
    "# LST = local standard time\n",
    "df_p_2021[\"LST_TIME\"] = [f\"{x:04d}\" for x in df_p_2021[\"LST_TIME\"]]  # time needs padding of zeros, then convert to string\n",
    "df_p_2021['LST_DATE'] = df_p_2021['LST_DATE'].astype(str)            # convert date into string\n",
    "df_p_2021['datetime'] = df_p_2021['LST_DATE'] + ' ' + df_p_2021['LST_TIME'] # combine date+time into datetime\n",
    "df_p_2021['datetime'] = pd.to_datetime(df_p_2021['datetime'])        # interpret datetime\n",
    "df_p_2021 = df_p_2021.set_index('datetime')                          # make datetime the index\n",
    "\n",
    "#downloading discharge data\n",
    "data_file = \"https://nwis.waterdata.usgs.gov/usa/nwis/uv/?cb_00060=on&format=rdb&site_no=01478120&period=&begin_date=2021-01-01&end_date=2022-01-01\"\n",
    "df_q_2021 = pd.read_csv(data_file,\n",
    "                        header=31,                      # no headers needed, we'll do that later\n",
    "                        delim_whitespace=True,            # blank spaces separate between columns\n",
    "                        na_values=[\"Bkw\"]  # substitute these values for missing (NaN) values\n",
    "                )\n",
    "df_q_2021.columns = ['agency_cd', 'site_no','datetime','tz_cd','EDT','discharge','code']                       # rename df columns with headers columns\n",
    "df_q_2021['date_and_time'] = df_q_2021['datetime'] + ' ' + df_q_2021['tz_cd'] # combine date+time into datetime\n",
    "df_q_2021['date_and_time'] = pd.to_datetime(df_q_2021['date_and_time'])        # interpret datetime\n",
    "df_q_2021 = df_q_2021.set_index('date_and_time')                          # make datetime the index\n",
    "df_q_2021['discharge'] = df_q_2021['discharge'].astype(float)\n",
    "df_q_2021['discharge'] = df_q_2021['discharge'] * 0.0283168 # convert cubic feet to m3\n",
    "\n",
    "fig, (ax1, ax2) = plt.subplots(2, 1, figsize=(10,7))\n",
    "fig.subplots_adjust(hspace=0.25)\n",
    "\n",
    "ax1.plot(df_p_2021['PRECIPITATION'])\n",
    "ax2.plot(df_q_2021['discharge'], color=\"tab:green\", lw=2)\n",
    "\n",
    "ax1.set(xticks=[],\n",
    "        ylabel=\"Precipitation \\n (mm)/ 5 minutes)\",\n",
    "        title=\"Precipitation in Avondale - 2021\")\n",
    "ax2.set(xlabel=\"Date\",\n",
    "        ylabel=\"Discharge \\n (m$^3$/5 minutes)\"\n",
    "       , title=\"Discharge in white clay creek - 2021\")\n",
    "\n",
    "plt.gcf().autofmt_xdate()  # makes slated dates\n"
   ]
  },
  {
   "cell_type": "markdown",
   "metadata": {},
   "source": [
    "We can see that Avondale is relatively rainy area and we get rain all year round. Also, we can notice that even tough, we get rain all year round it is quite seasonal and the rainy season is between June and October. \n",
    "On the other hand, if we look at the discharge graph we can see that it is very stable and most of the time there are no changes is discharged even after events of rain. Most of the changes in discharge, roughly say, are after big events of rain or long (in days) events of rain. "
   ]
  },
  {
   "cell_type": "markdown",
   "metadata": {},
   "source": [
    "## specific event of rain - 25 - 27/10/2021\n",
    "We will now zoom in on a specific event of rain and discharge which will make us easy to see the effect of the precipitation on the discharge"
   ]
  },
  {
   "cell_type": "code",
   "execution_count": null,
   "metadata": {},
   "outputs": [],
   "source": [
    "fig, (ax1, ax2) = plt.subplots(2, 1, figsize=(10,10))\n",
    "fig.subplots_adjust(hspace=0.25)\n",
    "\n",
    "start = \"2021-10-25\"\n",
    "end = \"2021-10-26\"\n",
    "ax1.plot(df_p_2021[start:end]['PRECIPITATION'])\n",
    "ax2.plot(df_q_2021[start:end]['discharge'], color=\"tab:green\", lw=2)\n",
    "\n",
    "ax1.set(xticks=[],\n",
    "        ylabel=\"Precipitation \\n (mm/ 5 minutes)\"\n",
    "        ,xlabel=\"date and hour\" ,\n",
    "        title=\"Precipitation in Avondale \\n 25-27/10/2021\")\n",
    "ax2.set(xlabel=\"Date and time\",\n",
    "        ylabel=\"Discharge \\n (m$^3$/5 minutes)\"\n",
    "        , title=\"Discharge in white clay creek \\n 25-27/10/2021 \")\n",
    "\n",
    "plt.gcf().autofmt_xdate()  # makes slated dates"
   ]
  },
  {
   "cell_type": "markdown",
   "metadata": {},
   "source": [
    "In the next graph we can see an event of rain that the majority of it is approximately around 6 hours. I chose this event because it is the second rainiest day of the year and it is expected to find a followed discharge that is affected by it. (That was after examine the rainy day and finding not as good correlation - that is why I chose the second rainiest day).\n",
    "In the two graphs we can see a flat curve until around 18:00 of the 25th and then in the upper precipitation graph can see the beginning of the rain event for a few hours. When looking now at the discharge graph we can notice that it takes a few hours until the rain started to show it marks on the discharge. Also not only it start changing later then the rain starts, it also last few hours after the rain stops. We can assume the reason for the delay is that it takes time for all the rain the flow as runoff on the surface and reach the stream And also to flow in the stream itself and accumulate until it makes an effect on the measuring station. Another reason that can make the runoff take longer to reach the stream is the vegetation and the field crops that stops the water from running freely as we mention in the introduction. As we said the area near the stream is not that steep what makes the water grab less speed and get stuck in more obstacles which is another reason for the delay we see in the graph.\n",
    "\n",
    "We can also notice in the discharge graph the steepness of the curve. since our drainage area is 11.3 which is not that big (after comparing with other locations in the map) we can assume most of the rain which ends up in the stream makes it fast and that is why the curve is quite steep."
   ]
  },
  {
   "cell_type": "markdown",
   "metadata": {},
   "source": [
    "## calculating the rate of effective water input (p *) and the event flow rate (q *)\n",
    "\n",
    "We will now move on and check some more details about our rain event and followed discharge. We will calculate Q, P, p *, q *, Q *.\n",
    "\n",
    "<img src= https://yairmau.github.io/website/archive/hydrology/hydrology_figures/dingman-box10.1.png width=\"600\" height=\"400\">\n",
    "\n",
    "### Base flow\n",
    "Base flow is the portion of streamflow that is presumed to have entered the watershed in previous events and to be derived from persistent, slowly varying sources (Ground water is usually assumed to be the main, if not the only, such source).\n",
    "\n",
    "### Event flow\n",
    "Event flow (also called direct runoff, storm runoff, quick flow, or storm flow) is considered to be the direct response to a given water-input event.\n",
    "\n",
    "### Total flow\n",
    "Total flow rate at any instant $q(t)$ is the sum of event-flow rate $ q^*(t) $ and base-flow rate $ q_{BF}(t)$:\n",
    "\n",
    "$$\n",
    "q(t) = q^*(t) + q_{BF}(t)\n",
    "$$"
   ]
  },
  {
   "cell_type": "code",
   "execution_count": null,
   "metadata": {},
   "outputs": [],
   "source": [
    "# Drainage area: 11.3 square miles\n",
    "area = 11.3 / 0.00000038610  # squared miles to squared meters\n",
    "start = \"2021-10-25 00:00:00\"\n",
    "end = \"2021-10-27 00:00:00\"\n",
    "\n",
    "# time resolution for p and q is 5 minutes\n",
    "delta_t_precipitation = 5 * 60  # in seconds\n",
    "delta_t_discharge = 5 * 60     # in seconds\n",
    "\n",
    "df_p = df_p_2021.loc[start:end]['PRECIPITATION'].to_frame()\n",
    "df_q = df_q_2021.loc[start:end]['discharge'].to_frame()\n",
    "\n",
    "# convert mm to m3.\n",
    "#  a) it is understood that 1 mm = 1 L/m2 = 1e-3 m3/m2.\n",
    "#  b) divide by 1000 to convert mm to m3/m2\n",
    "#  c) multiply by area (m2) to obtain total volume (m3) in whole watershed\n",
    "\n",
    "df_p['precipitation'] = df_p['PRECIPITATION'].values * area / 1000  # mm to m3 in the whole watershed\n",
    "\n",
    "# precipitation depth was originally given in mm in 5-min windows\n",
    "\n",
    "# divide by delta_t_precipitation = 5*60 to obtain finally m3/s\n",
    "df_p['precipitation'] = df_p['precipitation'] / delta_t_precipitation\n",
    "\n",
    "# Total volumes (m3) = sum of all bars times bar width (delta_t)\n",
    "P = df_p['precipitation'].sum() * delta_t_precipitation\n",
    "Q = df_q['discharge'].sum() * delta_t_discharge\n",
    "\n",
    "# #uncomment for results\n",
    "# print(f\"total precipitation during event:\\nP = {P:.1e} m{cubed}\")\n",
    "# print(f\"total streamflow during event:\\nQ = {Q:.1e} m{cubed}\")\n",
    "# print(f\"Streamflow is {Q/P:.0%} of precipitation\")"
   ]
  },
  {
   "cell_type": "markdown",
   "metadata": {},
   "source": [
    "After calculating  the total precipitation during our rain event we received the amount of 1. 6E^6 m^3. When checking the same period talking about the discharge change we found 5. 7E^4 m^3. It's easy to see that the two numbers are very different and to be precise the total discharge is only 4% of the total precipitation.  Q is combined from base flow+event flow (q *). In the next graph we will try to separate the two and finding q * and Q * which will represent us the total amount of direct response to our given rain event."
   ]
  },
  {
   "cell_type": "code",
   "execution_count": null,
   "metadata": {
    "scrolled": false
   },
   "outputs": [],
   "source": [
    "fig, (ax1, ax2) = plt.subplots(1, 2, figsize=(20,7))\n",
    "fig.subplots_adjust(wspace=0.01)\n",
    "\n",
    "ax1.plot(df_q['discharge'], color=\"black\", lw=2)\n",
    "# choose 2 by trial and error\n",
    "point1 = pd.to_datetime(\"2021-10-25 21:45:00\")\n",
    "point2 = pd.to_datetime(\"2021-10-26 11:00:00\")\n",
    "two_points = df_q.loc[[point1, point2], 'discharge']\n",
    "ax1.plot(two_points, 'o', color=\"tab:red\")\n",
    "\n",
    "# make new dataframe with the two chosen points\n",
    "df_linear = pd.DataFrame(data=two_points, index=two_points.index)\n",
    "# produce more points every 5 minutes by linear interpolation\n",
    "df_linear = (df_linear.resample(\"15min\")            # resample\n",
    "                      .interpolate(method='time')  # interpolate by time (linear)\n",
    "            )\n",
    "ax1.plot(df_linear, color=\"tab:red\")\n",
    "\n",
    "# shade blue the region between the two curves\n",
    "df_between_2_points = df_q.loc[df_linear.index]\n",
    "ax1.fill_between(df_between_2_points.index, df_between_2_points['discharge'],\n",
    "                 y2=df_linear['discharge'],\n",
    "                 color=\"tab:blue\", alpha=0.3)\n",
    "\n",
    "# calculate qstar = q - q_baseflow\n",
    "qstar = df_q.loc[df_linear.index, 'discharge'] - df_linear['discharge']\n",
    "Qstar = qstar.sum() * delta_t_discharge\n",
    "\n",
    "ax2.plot(qstar, color=\"black\", lw=2)\n",
    "ax2.fill_between(qstar.index, qstar,\n",
    "                 y2=0.0,\n",
    "                 color=\"tab:blue\", alpha=0.3)\n",
    "\n",
    "ax1.set(xlim=[df_q.index[0],\n",
    "              df_q.index[-1]],\n",
    "        xlabel=r\"Date and time\",\n",
    "        ylabel=\"Discharge \\n (m$^3$/s)\",\n",
    "        ylim=[0, 6],\n",
    "        yticks=[0,1,2,3,4,5,6],\n",
    "        title=\"Total discharge \\n q(t)\")\n",
    "ax2.set(yticks=[],\n",
    "        ylim=[0, 6],\n",
    "        xlim=[df_q.index[0],\n",
    "              df_q.index[-1]],\n",
    "        xlabel=r\"Date and time\",\n",
    "        ylabel = \"Discharge \\n (m$^3$/s)\",\n",
    "        title=\"Effective discharge \\n q*(t)\"\n",
    "       )\n",
    "plt.subplots_adjust(wspace=0.3, hspace=0.3)\n",
    "plt.gcf().autofmt_xdate()  # makes slated dates\n",
    "\n",
    "ratio = Qstar/ P\n",
    "pstar = df_p['precipitation'] * ratio  # m3/s\n",
    "Pstar = pstar.sum() * delta_t_precipitation # m3"
   ]
  },
  {
   "cell_type": "markdown",
   "metadata": {},
   "source": [
    "In the two graphs above, we first looked at the total discharge with time. We used a method which we choose two points that we think are the beginning and the end of the discharge which is effected by the rain and pull a line between those two points which represent q *. The part below the line is the base flow while the part below printed in blue is the part the impact by the rain event. To calculate the total discharge we flattened the blue part to the x axes and summed it using an integral receiving 29775 m^3 which is our Q *.\n",
    "\n"
   ]
  },
  {
   "cell_type": "code",
   "execution_count": null,
   "metadata": {
    "scrolled": false
   },
   "outputs": [],
   "source": [
    "# creates figure (the canvas) and the axis (rectangle where the plot sits)\n",
    "fig, ax = plt.subplots(1, figsize=(10,7))\n",
    "# two line plots\n",
    "start, end = \"2021-10-25 17:00:00\",\"2021-10-26 04:00:00\" \n",
    "ax.plot(pstar.loc[start:end], color=\"blue\", label = \"p*\" )\n",
    "ax.plot(df_p['precipitation'][start:end], color=\"red\", label = \"p\" )\n",
    "# axes labels and figure title\n",
    "ax.set_xlabel('date')\n",
    "ax.set_ylabel('percipitation (m$^3$/s)')\n",
    "ax.set_title('Fallbrook p and p* rain event')\n",
    "ax.legend(loc='upper right')\n",
    "# some ticks adjustments\n",
    "plt.gcf().autofmt_xdate()  # makes slated dates"
   ]
  },
  {
   "cell_type": "markdown",
   "metadata": {},
   "source": [
    "With this data that we collected we can now know the portion of the rain that actually reach into the stream by dividing Q * with the total precipitation and in our case we receive that only 2% which seems like a tiny number. I would expect more rain to reach as runoff into the stream, but it seems like 98% of it \"disappears \". In the next graph that shows the actual rain in red (p) with the portion of it ends up in the stream in blue (p *) we can see it even clearer.\n",
    "\n",
    "Assuming and hoping that my numbers and calculations are right, we will now try to explain the reason of this very small portion of rain ends up in the stream. First of all we shouldn't be afraid of that small number since we already learned in class and know that usually the fraction is very small. We know that the reminder rain and in our case 98% ends up in another 3 options 1. evapotranspiration 2. stream flow that occurs later than the rain event and dosent directly connected to it 3. ground water that out flow from the water shed.\n",
    "\n",
    "We will remind briefly of the 3 factors that we talked about already in the introduction. Talking about climate and evapotranspiration we saw that the area is quite humid and also pretty cold (-2 in January) and for our event period is around winter (October) we wouldn't expect much water to go with the first factor of evapotranspiration.\n",
    "\n",
    "The two other factors talked about \"losing\" water into the ground. As we have seen the topography of the near area of the stream is quite flat so we can believe that water have more time to infiltrate the ground and appear not in direct link to the rain event or even to flow out from the watershed. This also contributed from the fact that we talked about of the well drained soils formed in alluvium of fine loamy soil.\n",
    "\n",
    "Another very important factor which is also contributed by the pretty flat area around the stream and the well drained soil and also the fertile soil is the fact there are lots of field crops, but even more important near the stream lots of natural vegetation which obviously takes lots of the water. With all the last facts the vegetation has more time to use the water and grow, which after growing consume even more water to even in larger this effect.\n"
   ]
  },
  {
   "cell_type": "markdown",
   "metadata": {},
   "source": [
    "# Time lags - results and discussion\n",
    "<img src= https://yairmau.github.io/website/archive/hydrology/hydrology_figures/dingman-figure10.12.png width=\"600\" height=\"400\">\n",
    "<img src= https://yairmau.github.io/website/archive/hydrology/hydrology_figures/dingman-table10.2.png width=\"600\" height=\"400\">\n",
    "\n",
    "Until now we have focused on the amount of water in different parameters, but now we will focus on the time lags of some key moments between the rain event and the impact of it on the discharge.\n",
    "\n",
    "we will now calculate the centroid ($t_pc$) for effective precipitation $p*$ and centroid ($t_{qc}$) of effective discharge $q*$.We will also calculate the time of peak discharge ($t_{pk}$). Then, we will calculate the centroid lag ($T_{LC}$), the centroid lag-to-peak ($T_{LPC}$), and the time of concentration ($T_c$). \n",
    "\n",
    "### We will use the equations below:\n",
    "\n",
    "$T_{LPC} \\simeq 0.60 \\cdot T_c$\n",
    "\n",
    "Time of precipitation centroid:\n",
    "\n",
    "$$\n",
    "t_{pc} = \\frac{\\displaystyle \\sum_{i=1}^n p_i^* \\cdot t_i}{P^*}\n",
    "$$\n",
    "\n",
    "Time of streamflow centroid:\n",
    "\n",
    "$$\n",
    "t_{qc} = \\frac{\\displaystyle \\sum_{i=1}^n q_i^* \\cdot t_i}{Q^*}\n",
    "$$\n",
    "\n",
    "\n",
    "Centroid lag:\n",
    "\n",
    "$$\n",
    "T_{LC} = t_{qc} - t_{pc}\n",
    "$$\n",
    "\n",
    "Centroid lag-to-peak:\n",
    "$$\n",
    "T_{LPC} = t_{pk} - t_{pc}\n",
    "$$\n",
    "\n",
    "\n",
    "Time of concentration:\n",
    "$$\n",
    "T_{LPC} \\simeq 0.60 \\cdot T_c\n",
    "$$"
   ]
  },
  {
   "cell_type": "code",
   "execution_count": null,
   "metadata": {},
   "outputs": [],
   "source": [
    "pstar = (pstar.resample(\"15min\")            # resample\n",
    "                      .interpolate(method='time')  # interpolate by time (linear)\n",
    "            )\n",
    "# pstar centroid\n",
    "# time of the first (nonzero) rainfall data point\n",
    "t0 = pstar[pstar != 0.0].index[0]\n",
    "# time of the last (nonzero) rainfall data point\n",
    "tf = pstar[pstar != 0.0].index[-1]\n",
    "# duration of the rainfall event, in minutes\n",
    "td = (tf-t0) / pd.Timedelta('1 min')\n",
    "# make time array, add 2.5 minutes (half of dt)\n",
    "time = np.arange(0, td+1, 15) + 7.5\n",
    "# create pi array, only with relevant data (during rainfall duration)\n",
    "pi = pstar.loc[(pstar.index >= t0) & (pstar.index <= tf)]\n",
    "# convert from m3/5min to m3/s\n",
    "pi = pi.values * 60 * 15\n",
    "# time of precipitation centroid\n",
    "t_pc = (pi * time).sum() / pi.sum()\n",
    "# add initial time\n",
    "t_pc = t0 + pd.Timedelta(minutes=t_pc)\n",
    "t_pc\n",
    "\n",
    "# qstar centroid\n",
    "# time of the first (nonzero) discharge data point\n",
    "t0 = qstar[qstar != 0.0].index[0]\n",
    "# time of the last (nonzero) discharge data point\n",
    "tf = qstar[pstar != 0.0].index[-1]\n",
    "# duration of the discharge event, in minutes\n",
    "td = (tf-t0) / pd.Timedelta('1 min')\n",
    "# make time array, add 2.5 minutes (half of dt)\n",
    "time = np.arange(0, td+1, 15) + 7.5\n",
    "# create qi array, only with relevant data (during discharge duration)\n",
    "qi = qstar.loc[(qstar.index >= t0) & (qstar.index <= tf)]\n",
    "# convert from m3/5min to m3/s\n",
    "qi = qi.values * 60 * 5\n",
    "# time of discharge centroid\n",
    "t_qc = (qi * time).sum() / qi.sum()\n",
    "# add initial time\n",
    "t_qc = t0 + pd.Timedelta(minutes=t_qc)\n",
    "t_qc\n",
    "\n",
    "# time of peak discharge\n",
    "max_discharge = qstar.max()\n",
    "t_pk = qstar[qstar == max_discharge].index[0]\n",
    "\n",
    "# centroid lag\n",
    "T_LC = t_qc - t_pc\n",
    "\n",
    "# centroid lag-to-peak\n",
    "T_LPC = t_pk - t_pc\n",
    "\n",
    "# time of concentration\n",
    "T_c = T_LPC / 0.60\n",
    "\n",
    "# # to see result uncomment below\n",
    "# print(f\"T_LC = {T_LC}\")\n",
    "# print(f\"T_LPC = {T_LPC}\")\n",
    "# print(f\"T_c = {T_c}\")"
   ]
  },
  {
   "cell_type": "markdown",
   "metadata": {},
   "source": [
    "## conclutions \n",
    "After using the equations above we can see now some of the parameters belong to our stations talking about time lags. \n",
    "\n",
    "T_LC represents the time between the center of mass of the rain and the center of mass of the excretion. In our case the result for this parameter is 4:51:20 hours, which is quite a long time. Generally speaking the drainage area is not that big so this result might be a bit surprising since it would be expected that the center of mass of the excretion will be shorter. A possible reason for this factor might be the spread of the rain for a few hours, which shift the center of mass of the extraction to the right.\n",
    "\n",
    "T_LPC   represents the time elapsed between the mass precipitation center and the peak measured in the flow rate of the stream. Again, quite a very long time passed between the two - 4:14:39. Same for different results we received before we can say that the flat area around the stream, lots of vegetation and the relatively good infiltration of the soil make the process of water reaching the stream slower.\n",
    "\n",
    "T_C  is the time of concentration, which the time it takes water to travel from the hydraulically most distant part of the contributing area to the outlet. Because the T_C is calculated from T_LC which in our case is a long time we will obviously receive quite a long time talking about T_C and in our case 7:04:24 hours.\n",
    "\n"
   ]
  },
  {
   "cell_type": "markdown",
   "metadata": {},
   "source": [
    "# summary and main results and parameters\n",
    "| Parameter | result | \n",
    "| --- | --- | \n",
    "| Drainage area|11.3 squre km  |\n",
    "| Q | 5. 7E^4 m^3 |\n",
    "| P | 1. 6E^6 m^3 |\n",
    "| Q* | 29775 m^3 |\n",
    "|T_LC  | 4:51:20 hours |\n",
    "| T_LPC | 4:14:39 hours|\n",
    "|T_C  | 7:04:24 hours|\n",
    "\n",
    "In this assignment, we took two measuring points of two different parameters - one of precipitation (Avondale) and one of discharge (White clay creek). We wanted to check some values about the effect of the rain on the stream talking about volume and time. We assumed that the rain in the area was spread evenly and we wanted to check the correlations between the rain and the discharge. After zooming in on a specific event of rain we found that there is good correlation Between the 25-27/10/2021 as we can see a few hours of rain followed by changes in the discharge. \n",
    "Talking about the actual rain that reaches into the stream we found a very small number of only 2%.\n",
    "We also checked the time lags of some key points and received results for T_LC, T_LPC and T_C.\n",
    "\n",
    "After reviewing in the introduction some of the elements about our area talking about topography, soil type and infiltration,  climate and evaportranspiration, agriculture in the area and vegetation we tried to assume and evaluate the main factors for our results. \n",
    "As we discussed there are more factors contributing the rain reaching other destinations than the stream which will also support the relative short time we received."
   ]
  }
 ],
 "metadata": {
  "kernelspec": {
   "display_name": "Python 3",
   "language": "python",
   "name": "python3"
  },
  "language_info": {
   "codemirror_mode": {
    "name": "ipython",
    "version": 3
   },
   "file_extension": ".py",
   "mimetype": "text/x-python",
   "name": "python",
   "nbconvert_exporter": "python",
   "pygments_lexer": "ipython3",
   "version": "3.8.5"
  }
 },
 "nbformat": 4,
 "nbformat_minor": 4
}
